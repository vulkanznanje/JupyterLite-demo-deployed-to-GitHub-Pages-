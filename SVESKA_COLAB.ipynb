{
  "nbformat": 4,
  "nbformat_minor": 0,
  "metadata": {
    "colab": {
      "provenance": [],
      "toc_visible": true,
      "authorship_tag": "ABX9TyN1uZnyJNudyi2KchWD4Atj",
      "include_colab_link": true
    },
    "kernelspec": {
      "name": "python3",
      "display_name": "Python 3"
    },
    "language_info": {
      "name": "python"
    }
  },
  "cells": [
    {
      "cell_type": "markdown",
      "metadata": {
        "id": "view-in-github",
        "colab_type": "text"
      },
      "source": [
        "<a href=\"https://colab.research.google.com/github/vulkanznanje/JupyterLite-demo-deployed-to-GitHub-Pages-/blob/main/SVESKA_COLAB.ipynb\" target=\"_parent\"><img src=\"https://colab.research.google.com/assets/colab-badge.svg\" alt=\"Open In Colab\"/></a>"
      ]
    },
    {
      "cell_type": "code",
      "execution_count": null,
      "metadata": {
        "id": "ooN4TU3ydWmh"
      },
      "outputs": [],
      "source": [
        "OVO JE SVESKA NAPRAVLJENA U GOOGLE COLAB-U"
      ]
    },
    {
      "cell_type": "markdown",
      "source": [
        "**OVO JE SVESKA NAPRAVLJENA U GOOGLE COLAB-U**"
      ],
      "metadata": {
        "id": "xRfqG0SWde8c"
      }
    }
  ]
}